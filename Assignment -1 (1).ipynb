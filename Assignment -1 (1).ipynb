{
 "cells": [
  {
   "cell_type": "markdown",
   "metadata": {},
   "source": [
    "1. Write a program which will find all such numbers which are divisible by 7 but are not a multiple of 5, between 2000 and 3200 (both included). The numbers obtained should be printed in a comma-separated sequence on a single line. "
   ]
  },
  {
   "cell_type": "code",
   "execution_count": 7,
   "metadata": {},
   "outputs": [
    {
     "name": "stdout",
     "output_type": "stream",
     "text": [
      "2002\n",
      "2009\n",
      "2016\n",
      "2023\n",
      "2030\n",
      "2037\n",
      "2044\n",
      "2051\n",
      "2058\n",
      "2065\n",
      "2072\n",
      "2079\n",
      "2086\n",
      "2093\n",
      "2100\n",
      "2107\n",
      "2114\n",
      "2121\n",
      "2128\n",
      "2135\n",
      "2142\n",
      "2149\n",
      "2156\n",
      "2163\n",
      "2170\n",
      "2177\n",
      "2184\n",
      "2191\n",
      "2198\n",
      "2205\n",
      "2212\n",
      "2219\n",
      "2226\n",
      "2233\n",
      "2240\n",
      "2247\n",
      "2254\n",
      "2261\n",
      "2268\n",
      "2275\n",
      "2282\n",
      "2289\n",
      "2296\n",
      "2303\n",
      "2310\n",
      "2317\n",
      "2324\n",
      "2331\n",
      "2338\n",
      "2345\n",
      "2352\n",
      "2359\n",
      "2366\n",
      "2373\n",
      "2380\n",
      "2387\n",
      "2394\n",
      "2401\n",
      "2408\n",
      "2415\n",
      "2422\n",
      "2429\n",
      "2436\n",
      "2443\n",
      "2450\n",
      "2457\n",
      "2464\n",
      "2471\n",
      "2478\n",
      "2485\n",
      "2492\n",
      "2499\n",
      "2506\n",
      "2513\n",
      "2520\n",
      "2527\n",
      "2534\n",
      "2541\n",
      "2548\n",
      "2555\n",
      "2562\n",
      "2569\n",
      "2576\n",
      "2583\n",
      "2590\n",
      "2597\n",
      "2604\n",
      "2611\n",
      "2618\n",
      "2625\n",
      "2632\n",
      "2639\n",
      "2646\n",
      "2653\n",
      "2660\n",
      "2667\n",
      "2674\n",
      "2681\n",
      "2688\n",
      "2695\n",
      "2702\n",
      "2709\n",
      "2716\n",
      "2723\n",
      "2730\n",
      "2737\n",
      "2744\n",
      "2751\n",
      "2758\n",
      "2765\n",
      "2772\n",
      "2779\n",
      "2786\n",
      "2793\n",
      "2800\n",
      "2807\n",
      "2814\n",
      "2821\n",
      "2828\n",
      "2835\n",
      "2842\n",
      "2849\n",
      "2856\n",
      "2863\n",
      "2870\n",
      "2877\n",
      "2884\n",
      "2891\n",
      "2898\n",
      "2905\n",
      "2912\n",
      "2919\n",
      "2926\n",
      "2933\n",
      "2940\n",
      "2947\n",
      "2954\n",
      "2961\n",
      "2968\n",
      "2975\n",
      "2982\n",
      "2989\n",
      "2996\n",
      "3003\n",
      "3010\n",
      "3017\n",
      "3024\n",
      "3031\n",
      "3038\n",
      "3045\n",
      "3052\n",
      "3059\n",
      "3066\n",
      "3073\n",
      "3080\n",
      "3087\n",
      "3094\n",
      "3101\n",
      "3108\n",
      "3115\n",
      "3122\n",
      "3129\n",
      "3136\n",
      "3143\n",
      "3150\n",
      "3157\n",
      "3164\n",
      "3171\n",
      "3178\n",
      "3185\n",
      "3192\n",
      "3199\n"
     ]
    }
   ],
   "source": [
    "d = []\n",
    "for i in range (2000,3201):\n",
    "    if (i%7 == 0)  and (i*5 != 0):\n",
    "        print(i)"
   ]
  },
  {
   "cell_type": "markdown",
   "metadata": {},
   "source": [
    "2. Write a Python program to accept the user's first and last name and then getting them printed in the the reverse order with a space between first name and last name"
   ]
  },
  {
   "cell_type": "code",
   "execution_count": 1,
   "metadata": {},
   "outputs": [
    {
     "name": "stdout",
     "output_type": "stream",
     "text": [
      "Enter first name pls :kushal\n",
      "Enter last name pls :kj\n",
      "name reversed :  kj kushal\n"
     ]
    }
   ],
   "source": [
    "s = input('Enter first name pls :')\n",
    "t = input('Enter last name pls :') \n",
    "print(\"name reversed : \" , t + \" \" + s )"
   ]
  },
  {
   "cell_type": "markdown",
   "metadata": {},
   "source": [
    "3.Write a Python program to find the volume of a sphere with diameter 12 cm.  \n",
    " \n",
    "Formula: V=4/3 * π * r 3 "
   ]
  },
  {
   "cell_type": "code",
   "execution_count": 2,
   "metadata": {},
   "outputs": [
    {
     "name": "stdout",
     "output_type": "stream",
     "text": [
      "The volume of the sphere is:  904.7786842338603\n"
     ]
    }
   ],
   "source": [
    "d=12\n",
    "pi = 3.1415926535897931\n",
    "r= d/2\n",
    "V= 4.0/3.0*pi* r**3\n",
    "print('The volume of the sphere is: ',V)"
   ]
  },
  {
   "cell_type": "markdown",
   "metadata": {},
   "source": [
    "4.Write a program which accepts a sequence of comma-separated numbers from console and generate a list. "
   ]
  },
  {
   "cell_type": "code",
   "execution_count": 6,
   "metadata": {},
   "outputs": [
    {
     "name": "stdout",
     "output_type": "stream",
     "text": [
      "Input some comma seprated numbers : 8,4,9,2,7,\n",
      "List :  ['8', '4', '9', '2', '7', '']\n"
     ]
    }
   ],
   "source": [
    "values = input(\"Input some comma seprated numbers : \")\n",
    "list = values.split(\",\")\n",
    "print('List : ',list)"
   ]
  },
  {
   "cell_type": "raw",
   "metadata": {},
   "source": [
    "5. Create the below pattern using nested for loop in Python. \n",
    " \n",
    " \n",
    "*  \n",
    "* *  \n",
    "* * * \n",
    "* * * *  \n",
    "* * * * *  \n",
    "* * * *  \n",
    "* * *  \n",
    "* *  \n",
    "* \n",
    " \n",
    " "
   ]
  },
  {
   "cell_type": "code",
   "execution_count": 3,
   "metadata": {},
   "outputs": [
    {
     "name": "stdout",
     "output_type": "stream",
     "text": [
      "\n",
      "* \n",
      "* * \n",
      "* * * \n",
      "* * * * \n",
      "* * * * * \n",
      "* * * * \n",
      "* * * \n",
      "* * \n",
      "* \n"
     ]
    }
   ],
   "source": [
    "n=5;\n",
    "for i in range(n):\n",
    "   for j in range(i):\n",
    "    print ('* ', end=\"\")\n",
    "   print('')\n",
    "\n",
    "for i in range(n,0,-1):\n",
    "   for j in range(i):\n",
    "       print('* ', end=\"\")\n",
    "   print('')"
   ]
  },
  {
   "cell_type": "markdown",
   "metadata": {},
   "source": [
    "6. Write a Python program to reverse a word after accepting the input from the user. \n",
    " \n",
    "Sample Output: \n",
    " \n",
    "Input word: iNeuron \n",
    " \n",
    "Output: norueNi"
   ]
  },
  {
   "cell_type": "code",
   "execution_count": 1,
   "metadata": {},
   "outputs": [
    {
     "name": "stdout",
     "output_type": "stream",
     "text": [
      "input word :iNeuron\n",
      "Output :  norueNi\n"
     ]
    }
   ],
   "source": [
    "s = input(\"input word :\")\n",
    "print('Output : ',s[::-1])"
   ]
  },
  {
   "cell_type": "markdown",
   "metadata": {},
   "source": [
    "7. Write a Python Program to print the given string in the format specified in the ​sample output. \n",
    " WE, THE PEOPLE OF INDIA, having solemnly resolved to constitute India into a SOVEREIGN, SOCIALIST, SECULAR, DEMOCRATIC REPUBLIC and to secure to all its citizens \n",
    " \n",
    "Sample Output: \n",
    " \n",
    "WE, THE PEOPLE OF INDIA,   having solemnly resolved to constitute India into a SOVEREIGN, !  SOCIALIST, SECULAR, DEMOCRATIC REPUBLIC    and to secure to all its citizens "
   ]
  },
  {
   "cell_type": "code",
   "execution_count": null,
   "metadata": {},
   "outputs": [],
   "source": []
  },
  {
   "cell_type": "markdown",
   "metadata": {},
   "source": [
    "Note : - NOTE:​ ​The​ ​solution​ ​shared​ ​through​ ​Github​ ​should​ ​contain​ ​the​ ​source code​ ​used​ ​ and​  ​the​ ​output"
   ]
  },
  {
   "cell_type": "code",
   "execution_count": null,
   "metadata": {},
   "outputs": [],
   "source": []
  }
 ],
 "metadata": {
  "kernelspec": {
   "display_name": "Python 3",
   "language": "python",
   "name": "python3"
  },
  "language_info": {
   "codemirror_mode": {
    "name": "ipython",
    "version": 3
   },
   "file_extension": ".py",
   "mimetype": "text/x-python",
   "name": "python",
   "nbconvert_exporter": "python",
   "pygments_lexer": "ipython3",
   "version": "3.7.4"
  }
 },
 "nbformat": 4,
 "nbformat_minor": 2
}
